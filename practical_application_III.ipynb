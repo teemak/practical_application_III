{
 "cells": [
  {
   "cell_type": "markdown",
   "metadata": {
    "tags": []
   },
   "source": [
    "# Import Libraries and Data"
   ]
  },
  {
   "cell_type": "code",
   "execution_count": 1,
   "metadata": {
    "tags": []
   },
   "outputs": [],
   "source": [
    "import time\n",
    "import pandas as pd\n",
    "import numpy as np\n",
    "import seaborn as sns\n",
    "import matplotlib.pyplot as plt\n",
    "\n",
    "from sklearn import tree\n",
    "from sklearn.linear_model import LogisticRegression\n",
    "from sklearn.neighbors import KNeighborsClassifier\n",
    "from sklearn.svm import SVC\n",
    "from sklearn.tree import DecisionTreeClassifier\n",
    "from sklearn.preprocessing import LabelEncoder, StandardScaler\n",
    "from sklearn.pipeline import Pipeline\n",
    "from sklearn.model_selection import train_test_split, GridSearchCV, cross_val_score\n",
    "from sklearn.metrics import confusion_matrix, classification_report, ConfusionMatrixDisplay, accuracy_score"
   ]
  },
  {
   "cell_type": "code",
   "execution_count": 2,
   "metadata": {
    "tags": []
   },
   "outputs": [],
   "source": [
    "df = pd.read_csv('data/bank-additional-full.csv', sep = ';')"
   ]
  },
  {
   "cell_type": "markdown",
   "metadata": {
    "tags": []
   },
   "source": [
    "# Data Cleaning\n",
    "Convert the output variable to an integer for faster training. Balance the output variable by undersampling the majority class. Only use the first 7 columns per the instructions. Use a Label Encoder to convert categorical text into numerical data."
   ]
  },
  {
   "cell_type": "code",
   "execution_count": 3,
   "metadata": {
    "tags": []
   },
   "outputs": [],
   "source": [
    "df['y'] = df['y'].map({'no': 0, 'yes': 1}).astype(int)"
   ]
  },
  {
   "cell_type": "code",
   "execution_count": 4,
   "metadata": {
    "tags": []
   },
   "outputs": [],
   "source": [
    "filtered_df0 = df[df['y'] == 0]\n",
    "filtered_df1 = df[df['y'] == 1]\n",
    "\n",
    "n = df['y'].value_counts()[1]\n",
    "\n",
    "sampled_df = filtered_df0.sample(n)"
   ]
  },
  {
   "cell_type": "code",
   "execution_count": 5,
   "metadata": {
    "tags": []
   },
   "outputs": [],
   "source": [
    "df = pd.concat([sampled_df, filtered_df1])\n",
    "df.reset_index(drop=True, inplace=True)"
   ]
  },
  {
   "cell_type": "code",
   "execution_count": 6,
   "metadata": {
    "tags": []
   },
   "outputs": [
    {
     "data": {
      "text/plain": [
       "0    4640\n",
       "1    4640\n",
       "Name: y, dtype: int64"
      ]
     },
     "execution_count": 6,
     "metadata": {},
     "output_type": "execute_result"
    }
   ],
   "source": [
    "df.y.value_counts()"
   ]
  },
  {
   "cell_type": "code",
   "execution_count": 7,
   "metadata": {
    "tags": []
   },
   "outputs": [],
   "source": [
    "X = df.iloc[:, :7]\n",
    "y = df['y']"
   ]
  },
  {
   "cell_type": "code",
   "execution_count": 8,
   "metadata": {
    "tags": []
   },
   "outputs": [],
   "source": [
    "cat_cols = ['job', 'marital', 'education', 'default', 'housing', 'loan']\n",
    "le = LabelEncoder()\n",
    "X[cat_cols] = X[cat_cols].apply(le.fit_transform)"
   ]
  },
  {
   "cell_type": "markdown",
   "metadata": {
    "tags": []
   },
   "source": [
    "# Train/Test Split\n",
    "Using a 80/20 split for 9280 observations. Using a static random seed to that comparisons are more accurate."
   ]
  },
  {
   "cell_type": "code",
   "execution_count": 9,
   "metadata": {
    "tags": []
   },
   "outputs": [],
   "source": [
    "X_train, X_test, y_train, y_test = train_test_split(X, y, test_size=0.2, random_state=42)"
   ]
  },
  {
   "cell_type": "markdown",
   "metadata": {
    "tags": []
   },
   "source": [
    "# Baseline Model\n",
    "Establish a baseline model using Logistic Regression to ensure interpretability and to identify linear relationships within the features. Record the training time, as well as both the training and test accuracies. View metrics like the coefficients, intercept, predictions via a confusion matrix, and classification report."
   ]
  },
  {
   "cell_type": "code",
   "execution_count": 10,
   "metadata": {
    "tags": []
   },
   "outputs": [],
   "source": [
    "log_reg = LogisticRegression()\n",
    "\n",
    "start_time = time.time()\n",
    "log_reg.fit(X_train, y_train)\n",
    "end_time=time.time()"
   ]
  },
  {
   "cell_type": "code",
   "execution_count": 11,
   "metadata": {
    "tags": []
   },
   "outputs": [],
   "source": [
    "model = 'Logistic Regression'\n",
    "training_time = end_time - start_time\n",
    "training_acc = log_reg.score(X_train, y_train)\n",
    "testing_acc = log_reg.score(X_test, y_test)\n",
    "difference = training_acc - testing_acc\n",
    "lr_df = pd.DataFrame({'model': model, 'training_time': training_time, 'training_acc': training_acc, 'testing_acc': testing_acc, 'difference': difference}, index=[0])"
   ]
  },
  {
   "cell_type": "code",
   "execution_count": 12,
   "metadata": {
    "tags": []
   },
   "outputs": [],
   "source": [
    "models_df = pd.DataFrame(columns=['model', 'training_time', 'training_acc', 'testing_acc', 'difference'])\n",
    "models_df = pd.concat([models_df, lr_df], ignore_index=True)"
   ]
  },
  {
   "cell_type": "code",
   "execution_count": 13,
   "metadata": {
    "tags": []
   },
   "outputs": [
    {
     "data": {
      "text/html": [
       "<div>\n",
       "<style scoped>\n",
       "    .dataframe tbody tr th:only-of-type {\n",
       "        vertical-align: middle;\n",
       "    }\n",
       "\n",
       "    .dataframe tbody tr th {\n",
       "        vertical-align: top;\n",
       "    }\n",
       "\n",
       "    .dataframe thead th {\n",
       "        text-align: right;\n",
       "    }\n",
       "</style>\n",
       "<table border=\"1\" class=\"dataframe\">\n",
       "  <thead>\n",
       "    <tr style=\"text-align: right;\">\n",
       "      <th></th>\n",
       "      <th>Feature</th>\n",
       "      <th>Coefficient</th>\n",
       "    </tr>\n",
       "  </thead>\n",
       "  <tbody>\n",
       "    <tr>\n",
       "      <th>0</th>\n",
       "      <td>marital</td>\n",
       "      <td>0.320099</td>\n",
       "    </tr>\n",
       "    <tr>\n",
       "      <th>1</th>\n",
       "      <td>education</td>\n",
       "      <td>0.050936</td>\n",
       "    </tr>\n",
       "    <tr>\n",
       "      <th>2</th>\n",
       "      <td>housing</td>\n",
       "      <td>0.032860</td>\n",
       "    </tr>\n",
       "    <tr>\n",
       "      <th>3</th>\n",
       "      <td>age</td>\n",
       "      <td>0.019338</td>\n",
       "    </tr>\n",
       "    <tr>\n",
       "      <th>4</th>\n",
       "      <td>job</td>\n",
       "      <td>0.016969</td>\n",
       "    </tr>\n",
       "    <tr>\n",
       "      <th>5</th>\n",
       "      <td>loan</td>\n",
       "      <td>-0.019759</td>\n",
       "    </tr>\n",
       "    <tr>\n",
       "      <th>6</th>\n",
       "      <td>default</td>\n",
       "      <td>-0.997099</td>\n",
       "    </tr>\n",
       "  </tbody>\n",
       "</table>\n",
       "</div>"
      ],
      "text/plain": [
       "     Feature  Coefficient\n",
       "0    marital     0.320099\n",
       "1  education     0.050936\n",
       "2    housing     0.032860\n",
       "3        age     0.019338\n",
       "4        job     0.016969\n",
       "5       loan    -0.019759\n",
       "6    default    -0.997099"
      ]
     },
     "execution_count": 13,
     "metadata": {},
     "output_type": "execute_result"
    }
   ],
   "source": [
    "cols = X.columns\n",
    "coeff = log_reg.coef_[0]\n",
    "coeffs = dict(zip(cols, coeff))\n",
    "sorted_coeffs = sorted(coeffs.items(), key=lambda x: x[1], reverse=True)\n",
    "coeffs_df = pd.DataFrame(sorted_coeffs, columns=['Feature', 'Coefficient'])\n",
    "\n",
    "coeffs_df"
   ]
  },
  {
   "cell_type": "markdown",
   "metadata": {
    "tags": []
   },
   "source": [
    "## Largest Coefficients\n",
    "The marital coefficient has 0.31 and default has -0.97. The default status makes a lot of sense because those struggling with money will most likely decline to subscribe to a term deposit."
   ]
  },
  {
   "cell_type": "code",
   "execution_count": 14,
   "metadata": {
    "tags": []
   },
   "outputs": [
    {
     "name": "stdout",
     "output_type": "stream",
     "text": [
      "[-1.31944799]\n"
     ]
    }
   ],
   "source": [
    "print(log_reg.intercept_)"
   ]
  },
  {
   "cell_type": "code",
   "execution_count": 15,
   "metadata": {
    "tags": []
   },
   "outputs": [
    {
     "name": "stdout",
     "output_type": "stream",
     "text": [
      "              precision    recall  f1-score   support\n",
      "\n",
      "           0       0.60      0.47      0.53       914\n",
      "           1       0.57      0.69      0.63       942\n",
      "\n",
      "    accuracy                           0.58      1856\n",
      "   macro avg       0.58      0.58      0.58      1856\n",
      "weighted avg       0.58      0.58      0.58      1856\n",
      "\n"
     ]
    }
   ],
   "source": [
    "y_pred = log_reg.predict(X_test)\n",
    "log_reg_report = classification_report(y_test, y_pred)\n",
    "\n",
    "print(log_reg_report)"
   ]
  },
  {
   "cell_type": "code",
   "execution_count": 16,
   "metadata": {
    "tags": []
   },
   "outputs": [
    {
     "data": {
      "image/png": "[encoded data removed]",
      "text/plain": [
       "<Figure size 640x480 with 2 Axes>"
      ]
     },
     "metadata": {},
     "output_type": "display_data"
    }
   ],
   "source": [
    "cm = confusion_matrix(y_test, y_pred)\n",
    "cmd = ConfusionMatrixDisplay(cm, display_labels=['Declined', 'Subscribed'])\n",
    "\n",
    "cmd.plot(cmap='BuPu')\n",
    "plt.grid(False)\n",
    "plt.show()"
   ]
  },
  {
   "cell_type": "markdown",
   "metadata": {
    "tags": []
   },
   "source": [
    "## Baseline Results\n",
    "The confusion matrix shows that the model did better guessing customers who subscribed. The baseline accuracy score is 60% with hyperparameter tuning and removing non-linear features this score will probably increase."
   ]
  },
  {
   "cell_type": "markdown",
   "metadata": {
    "tags": []
   },
   "source": [
    "# Train Other Models\n",
    "* KNN\n",
    "* SVM\n",
    "* Decision Trees"
   ]
  },
  {
   "cell_type": "code",
   "execution_count": 17,
   "metadata": {
    "tags": []
   },
   "outputs": [],
   "source": [
    "knn = KNeighborsClassifier()\n",
    "\n",
    "start_time = time.time()\n",
    "knn.fit(X_train, y_train)\n",
    "end_time=time.time()"
   ]
  },
  {
   "cell_type": "code",
   "execution_count": 18,
   "metadata": {
    "tags": []
   },
   "outputs": [],
   "source": [
    "model = 'K-Nearest Neighbors'\n",
    "training_time = end_time - start_time\n",
    "training_acc = knn.score(X_train, y_train)\n",
    "testing_acc = knn.score(X_test, y_test)\n",
    "difference = training_acc - testing_acc\n",
    "knn_df = pd.DataFrame({'model': model, 'training_time': training_time, 'training_acc': training_acc, 'testing_acc': testing_acc, 'difference': difference}, index=[0])\n",
    "\n",
    "models_df = pd.concat([models_df, knn_df], ignore_index=True)"
   ]
  },
  {
   "cell_type": "code",
   "execution_count": 19,
   "metadata": {
    "tags": []
   },
   "outputs": [],
   "source": [
    "svm = SVC()\n",
    "\n",
    "start_time = time.time()\n",
    "svm.fit(X_train, y_train)\n",
    "end_time=time.time()"
   ]
  },
  {
   "cell_type": "code",
   "execution_count": 20,
   "metadata": {
    "tags": []
   },
   "outputs": [],
   "source": [
    "model = 'Support Vector Machines'\n",
    "training_time = end_time - start_time\n",
    "training_acc = svm.score(X_train, y_train)\n",
    "testing_acc = svm.score(X_test, y_test)\n",
    "difference = training_acc - testing_acc\n",
    "svm_df = pd.DataFrame({'model': model, 'training_time': training_time, 'training_acc': training_acc, 'testing_acc': testing_acc, 'difference': difference}, index=[0])\n",
    "\n",
    "models_df = pd.concat([models_df, svm_df], ignore_index=True)"
   ]
  },
  {
   "cell_type": "code",
   "execution_count": 21,
   "metadata": {
    "tags": []
   },
   "outputs": [],
   "source": [
    "dt = DecisionTreeClassifier()\n",
    "\n",
    "start_time = time.time()\n",
    "dt.fit(X_train, y_train)\n",
    "end_time=time.time()"
   ]
  },
  {
   "cell_type": "code",
   "execution_count": 22,
   "metadata": {
    "tags": []
   },
   "outputs": [],
   "source": [
    "model = 'Decision Tree'\n",
    "training_time = end_time - start_time\n",
    "training_acc = dt.score(X_train, y_train)\n",
    "testing_acc = dt.score(X_test, y_test)\n",
    "difference = training_acc - testing_acc\n",
    "dt_df = pd.DataFrame({'model': model, 'training_time': training_time, 'training_acc': training_acc, 'testing_acc': testing_acc, 'difference': difference}, index=[0])\n",
    "\n",
    "models_df = pd.concat([models_df, dt_df], ignore_index=True)"
   ]
  },
  {
   "cell_type": "markdown",
   "metadata": {
    "tags": []
   },
   "source": [
    "## Model Comparisons\n",
    "The KNN and Decision Tree models are overfitting. They do really well on seen data but there is a big drop when predicting on new data. KNN is expected to have the fastest training time because it doesn't perform any calculations until it makes predictions. The testing accuracy between the four models are comparable."
   ]
  },
  {
   "cell_type": "code",
   "execution_count": 23,
   "metadata": {
    "tags": []
   },
   "outputs": [
    {
     "data": {
      "text/html": [
       "<div>\n",
       "<style scoped>\n",
       "    .dataframe tbody tr th:only-of-type {\n",
       "        vertical-align: middle;\n",
       "    }\n",
       "\n",
       "    .dataframe tbody tr th {\n",
       "        vertical-align: top;\n",
       "    }\n",
       "\n",
       "    .dataframe thead th {\n",
       "        text-align: right;\n",
       "    }\n",
       "</style>\n",
       "<table border=\"1\" class=\"dataframe\">\n",
       "  <thead>\n",
       "    <tr style=\"text-align: right;\">\n",
       "      <th></th>\n",
       "      <th>model</th>\n",
       "      <th>training_time</th>\n",
       "      <th>training_acc</th>\n",
       "      <th>testing_acc</th>\n",
       "      <th>difference</th>\n",
       "    </tr>\n",
       "  </thead>\n",
       "  <tbody>\n",
       "    <tr>\n",
       "      <th>0</th>\n",
       "      <td>Logistic Regression</td>\n",
       "      <td>0.022652</td>\n",
       "      <td>0.586342</td>\n",
       "      <td>0.582435</td>\n",
       "      <td>0.003906</td>\n",
       "    </tr>\n",
       "    <tr>\n",
       "      <th>1</th>\n",
       "      <td>K-Nearest Neighbors</td>\n",
       "      <td>0.004557</td>\n",
       "      <td>0.705145</td>\n",
       "      <td>0.566810</td>\n",
       "      <td>0.138335</td>\n",
       "    </tr>\n",
       "    <tr>\n",
       "      <th>2</th>\n",
       "      <td>Support Vector Machines</td>\n",
       "      <td>0.745426</td>\n",
       "      <td>0.595232</td>\n",
       "      <td>0.590517</td>\n",
       "      <td>0.004714</td>\n",
       "    </tr>\n",
       "    <tr>\n",
       "      <th>3</th>\n",
       "      <td>Decision Tree</td>\n",
       "      <td>0.010422</td>\n",
       "      <td>0.848869</td>\n",
       "      <td>0.563039</td>\n",
       "      <td>0.285830</td>\n",
       "    </tr>\n",
       "  </tbody>\n",
       "</table>\n",
       "</div>"
      ],
      "text/plain": [
       "                     model  training_time  training_acc  testing_acc  \\\n",
       "0      Logistic Regression       0.022652      0.586342     0.582435   \n",
       "1      K-Nearest Neighbors       0.004557      0.705145     0.566810   \n",
       "2  Support Vector Machines       0.745426      0.595232     0.590517   \n",
       "3            Decision Tree       0.010422      0.848869     0.563039   \n",
       "\n",
       "   difference  \n",
       "0    0.003906  \n",
       "1    0.138335  \n",
       "2    0.004714  \n",
       "3    0.285830  "
      ]
     },
     "execution_count": 23,
     "metadata": {},
     "output_type": "execute_result"
    }
   ],
   "source": [
    "models_df"
   ]
  },
  {
   "cell_type": "markdown",
   "metadata": {
    "tags": []
   },
   "source": [
    "# Hyperparameter Tuning and Cross Validation\n",
    "Logistic Regression performs well with variables that have a linear relationship. Therefore, I will test it using only the 'marital' and 'default' features. The KNN model requires scaling of the data and removal of non-informative features to perform optimally. The Decision Tree model is prone to overfitting; to mitigate this, I will apply tree pruning techniques. Lastly, the SVM model may struggle with overlapping classes. To address this, I will reduce the noise in the data and assess any improvements."
   ]
  },
  {
   "cell_type": "code",
   "execution_count": 24,
   "metadata": {
    "tags": []
   },
   "outputs": [],
   "source": [
    "lr = LogisticRegression()\n",
    "knn = KNeighborsClassifier()\n",
    "svm = SVC()\n",
    "dt = DecisionTreeClassifier()"
   ]
  },
  {
   "cell_type": "markdown",
   "metadata": {
    "tags": []
   },
   "source": [
    "## Tune Logistic Regression\n",
    "Test hyperparameter tuning with same dataset as baseline. Second test will include only linear features. Logistic Regression will have 3 models in the comparisons."
   ]
  },
  {
   "cell_type": "code",
   "execution_count": 25,
   "metadata": {
    "tags": []
   },
   "outputs": [
    {
     "data": {
      "image/png": "[encoded data removed]",
      "text/plain": [
       "<Figure size 640x480 with 1 Axes>"
      ]
     },
     "metadata": {},
     "output_type": "display_data"
    }
   ],
   "source": [
    "sns.boxplot(data=df, x='marital', y='age', hue='y')\n",
    "ax = plt.gca()\n",
    "handles, labels = ax.get_legend_handles_labels()\n",
    "labels = [label.get_text() for label in ax.get_xticklabels()]\n",
    "ax.set_xticklabels([label.capitalize() for label in labels])\n",
    "\n",
    "plt.xlabel('Marital Status')\n",
    "plt.ylabel('Age')\n",
    "plt.title('Comparison of Marital Statuses by Subscription')\n",
    "\n",
    "legend_labels = ['Declined', 'Subscribed']\n",
    "plt.legend(handles=handles, labels=legend_labels, title='Subscription')\n",
    "plt.show()"
   ]
  },
  {
   "cell_type": "code",
   "execution_count": 26,
   "metadata": {
    "tags": []
   },
   "outputs": [
    {
     "name": "stdout",
     "output_type": "stream",
     "text": [
      "Fitting 10 folds for each of 20 candidates, totalling 200 fits\n"
     ]
    }
   ],
   "source": [
    "param_grid = {\n",
    "    'penalty': ['l2'],\n",
    "    'solver': ['lbfgs', 'newton-cg', 'newton-cholesky', 'sag'],\n",
    "    'max_iter' : [1000,2000,3000,4000,5000]\n",
    "}\n",
    "\n",
    "lr_grid = GridSearchCV(lr, param_grid, scoring='accuracy', verbose=1, n_jobs=-1, cv=10)\n",
    "\n",
    "start_time = time.time()\n",
    "lr_grid.fit(X_train, y_train)\n",
    "end_time=time.time()\n",
    "\n",
    "best_estimator = lr_grid.best_estimator_\n",
    "best_params = lr_grid.best_params_"
   ]
  },
  {
   "cell_type": "code",
   "execution_count": 27,
   "metadata": {},
   "outputs": [],
   "source": [
    "model = 'Logistic Regression v2'\n",
    "training_time = end_time - start_time\n",
    "training_acc = best_estimator.score(X_train, y_train)\n",
    "testing_acc = best_estimator.score(X_test, y_test)\n",
    "difference = training_acc - testing_acc\n",
    "\n",
    "lr_df = pd.DataFrame({'model': model, 'training_time': training_time, 'training_acc': training_acc, 'testing_acc': testing_acc, 'difference': difference}, index=[0])"
   ]
  },
  {
   "cell_type": "code",
   "execution_count": 28,
   "metadata": {
    "tags": []
   },
   "outputs": [],
   "source": [
    "models_df = pd.concat([models_df, lr_df], ignore_index=True)"
   ]
  },
  {
   "cell_type": "markdown",
   "metadata": {
    "tags": []
   },
   "source": [
    "## Logistic Regression Test With Only Relational Features"
   ]
  },
  {
   "cell_type": "code",
   "execution_count": 29,
   "metadata": {},
   "outputs": [
    {
     "name": "stdout",
     "output_type": "stream",
     "text": [
      "Fitting 10 folds for each of 20 candidates, totalling 200 fits\n"
     ]
    }
   ],
   "source": [
    "X_lr = X[['marital', 'default']].copy()\n",
    "X_train2, X_test2, y_train2, y_test2 = train_test_split(X_lr, y, test_size=0.2, random_state=42)\n",
    "lr_2 = LogisticRegression()\n",
    "\n",
    "param_grid = {\n",
    "    'penalty': ['l2'],\n",
    "    'solver': ['lbfgs', 'newton-cg', 'newton-cholesky', 'sag'],\n",
    "    'max_iter' : [1000,2000,3000,4000,5000]\n",
    "}\n",
    "\n",
    "lr2_grid = GridSearchCV(lr_2, param_grid, scoring='accuracy', verbose=1, n_jobs=-1, cv=10)\n",
    "\n",
    "start_time = time.time()\n",
    "lr2_grid.fit(X_train2, y_train2)\n",
    "end_time=time.time()\n",
    "\n",
    "best_estimator = lr2_grid.best_estimator_\n",
    "best_params = lr2_grid.best_params_"
   ]
  },
  {
   "cell_type": "code",
   "execution_count": 30,
   "metadata": {
    "tags": []
   },
   "outputs": [],
   "source": [
    "model = 'Logistic Regression v3'\n",
    "training_time = end_time - start_time\n",
    "training_acc = best_estimator.score(X_train2, y_train2)\n",
    "testing_acc = best_estimator.score(X_test2, y_test2)\n",
    "difference = training_acc - testing_acc\n",
    "\n",
    "lr2_df = pd.DataFrame({'model': model, 'training_time': training_time, 'training_acc': training_acc, 'testing_acc': testing_acc, 'difference': difference}, index=[0])"
   ]
  },
  {
   "cell_type": "code",
   "execution_count": 31,
   "metadata": {
    "tags": []
   },
   "outputs": [],
   "source": [
    "models_df = pd.concat([models_df, lr2_df], ignore_index=True)"
   ]
  },
  {
   "cell_type": "markdown",
   "metadata": {
    "tags": []
   },
   "source": [
    "## Logistic Regression Tuning Results\n",
    "The default values were pretty good when compared to the hyperparameter tuning and cross validation. Testing the model with only the relational features decreased the score. This shows that those other features do contribute to the model's prediction score."
   ]
  },
  {
   "cell_type": "markdown",
   "metadata": {
    "tags": []
   },
   "source": [
    "## Tune KNN"
   ]
  },
  {
   "cell_type": "code",
   "execution_count": 32,
   "metadata": {
    "tags": []
   },
   "outputs": [
    {
     "name": "stdout",
     "output_type": "stream",
     "text": [
      "Fitting 10 folds for each of 580 candidates, totalling 5800 fits\n"
     ]
    }
   ],
   "source": [
    "param_grid = {\n",
    "    'n_neighbors': range(1, 20, 2),\n",
    "    'weights': ['uniform', 'distance'],\n",
    "    'leaf_size': range(1, 30, 1)\n",
    "}\n",
    "\n",
    "knn_grid = GridSearchCV(knn, param_grid, scoring='accuracy', verbose=1, n_jobs=-1, cv=10)\n",
    "\n",
    "start_time = time.time()\n",
    "knn_grid.fit(X_train, y_train)\n",
    "end_time=time.time()\n",
    "\n",
    "best_estimator = knn_grid.best_estimator_\n",
    "best_params = knn_grid.best_params_"
   ]
  },
  {
   "cell_type": "code",
   "execution_count": 33,
   "metadata": {
    "tags": []
   },
   "outputs": [],
   "source": [
    "model = 'K-Nearest Neighbors v2'\n",
    "training_time = end_time - start_time\n",
    "training_acc = best_estimator.score(X_train, y_train)\n",
    "testing_acc = best_estimator.score(X_test, y_test)\n",
    "difference = training_acc - testing_acc\n",
    "\n",
    "knn_df = pd.DataFrame({'model': model, 'training_time': training_time, 'training_acc': training_acc, 'testing_acc': testing_acc, 'difference': difference}, index=[0])"
   ]
  },
  {
   "cell_type": "code",
   "execution_count": 34,
   "metadata": {
    "tags": []
   },
   "outputs": [],
   "source": [
    "models_df = pd.concat([models_df, knn_df], ignore_index=True)"
   ]
  },
  {
   "cell_type": "markdown",
   "metadata": {
    "tags": []
   },
   "source": [
    "## KNN Tuning Results\n",
    "This is one of the simplest models with not many parameters to tune. The increase in time was because of the 5800 models trained. The tuning helped with overfitting by half a percent. No testing difference was made from tuning this model."
   ]
  },
  {
   "cell_type": "markdown",
   "metadata": {
    "tags": []
   },
   "source": [
    "## Tune SVM"
   ]
  },
  {
   "cell_type": "code",
   "execution_count": 35,
   "metadata": {
    "tags": []
   },
   "outputs": [
    {
     "name": "stdout",
     "output_type": "stream",
     "text": [
      "Fitting 10 folds for each of 210 candidates, totalling 2100 fits\n"
     ]
    }
   ],
   "source": [
    "param_grid = {\n",
    "    'kernel': ['rbf', 'poly', 'sigmoid'],\n",
    "    'C': np.arange(0.1, 1.5, 0.1).tolist(),\n",
    "    'degree': np.arange(1,6,1).tolist(),\n",
    "}\n",
    "\n",
    "svm_grid = GridSearchCV(svm, param_grid, scoring='accuracy', verbose=1, n_jobs=-1, cv=10)\n",
    "\n",
    "start_time = time.time()\n",
    "svm_grid.fit(X_train, y_train)\n",
    "end_time=time.time()\n",
    "\n",
    "best_estimator = svm_grid.best_estimator_\n",
    "best_params = svm_grid.best_params_"
   ]
  },
  {
   "cell_type": "code",
   "execution_count": 36,
   "metadata": {
    "tags": []
   },
   "outputs": [],
   "source": [
    "model = 'Support Vector Machines v2'\n",
    "training_time = end_time - start_time\n",
    "training_acc = best_estimator.score(X_train, y_train)\n",
    "testing_acc = best_estimator.score(X_test, y_test)\n",
    "difference = training_acc - testing_acc\n",
    "\n",
    "svm_df = pd.DataFrame({'model': model, 'training_time': training_time, 'training_acc': training_acc, 'testing_acc': testing_acc, 'difference': difference}, index=[0])"
   ]
  },
  {
   "cell_type": "code",
   "execution_count": 37,
   "metadata": {
    "tags": []
   },
   "outputs": [
    {
     "data": {
      "text/html": [
       "<div>\n",
       "<style scoped>\n",
       "    .dataframe tbody tr th:only-of-type {\n",
       "        vertical-align: middle;\n",
       "    }\n",
       "\n",
       "    .dataframe tbody tr th {\n",
       "        vertical-align: top;\n",
       "    }\n",
       "\n",
       "    .dataframe thead th {\n",
       "        text-align: right;\n",
       "    }\n",
       "</style>\n",
       "<table border=\"1\" class=\"dataframe\">\n",
       "  <thead>\n",
       "    <tr style=\"text-align: right;\">\n",
       "      <th></th>\n",
       "      <th>model</th>\n",
       "      <th>training_time</th>\n",
       "      <th>training_acc</th>\n",
       "      <th>testing_acc</th>\n",
       "      <th>difference</th>\n",
       "    </tr>\n",
       "  </thead>\n",
       "  <tbody>\n",
       "    <tr>\n",
       "      <th>0</th>\n",
       "      <td>Logistic Regression</td>\n",
       "      <td>0.022652</td>\n",
       "      <td>0.586342</td>\n",
       "      <td>0.582435</td>\n",
       "      <td>0.003906</td>\n",
       "    </tr>\n",
       "    <tr>\n",
       "      <th>1</th>\n",
       "      <td>K-Nearest Neighbors</td>\n",
       "      <td>0.004557</td>\n",
       "      <td>0.705145</td>\n",
       "      <td>0.566810</td>\n",
       "      <td>0.138335</td>\n",
       "    </tr>\n",
       "    <tr>\n",
       "      <th>2</th>\n",
       "      <td>Support Vector Machines</td>\n",
       "      <td>0.745426</td>\n",
       "      <td>0.595232</td>\n",
       "      <td>0.590517</td>\n",
       "      <td>0.004714</td>\n",
       "    </tr>\n",
       "    <tr>\n",
       "      <th>3</th>\n",
       "      <td>Decision Tree</td>\n",
       "      <td>0.010422</td>\n",
       "      <td>0.848869</td>\n",
       "      <td>0.563039</td>\n",
       "      <td>0.285830</td>\n",
       "    </tr>\n",
       "    <tr>\n",
       "      <th>4</th>\n",
       "      <td>Logistic Regression v2</td>\n",
       "      <td>1.990759</td>\n",
       "      <td>0.587284</td>\n",
       "      <td>0.582974</td>\n",
       "      <td>0.004310</td>\n",
       "    </tr>\n",
       "    <tr>\n",
       "      <th>5</th>\n",
       "      <td>Logistic Regression v3</td>\n",
       "      <td>0.366649</td>\n",
       "      <td>0.561153</td>\n",
       "      <td>0.551724</td>\n",
       "      <td>0.009429</td>\n",
       "    </tr>\n",
       "    <tr>\n",
       "      <th>6</th>\n",
       "      <td>K-Nearest Neighbors v2</td>\n",
       "      <td>7.377606</td>\n",
       "      <td>0.654095</td>\n",
       "      <td>0.564116</td>\n",
       "      <td>0.089978</td>\n",
       "    </tr>\n",
       "    <tr>\n",
       "      <th>7</th>\n",
       "      <td>Support Vector Machines v2</td>\n",
       "      <td>195.973463</td>\n",
       "      <td>0.593346</td>\n",
       "      <td>0.593750</td>\n",
       "      <td>-0.000404</td>\n",
       "    </tr>\n",
       "  </tbody>\n",
       "</table>\n",
       "</div>"
      ],
      "text/plain": [
       "                        model  training_time  training_acc  testing_acc  \\\n",
       "0         Logistic Regression       0.022652      0.586342     0.582435   \n",
       "1         K-Nearest Neighbors       0.004557      0.705145     0.566810   \n",
       "2     Support Vector Machines       0.745426      0.595232     0.590517   \n",
       "3               Decision Tree       0.010422      0.848869     0.563039   \n",
       "4      Logistic Regression v2       1.990759      0.587284     0.582974   \n",
       "5      Logistic Regression v3       0.366649      0.561153     0.551724   \n",
       "6      K-Nearest Neighbors v2       7.377606      0.654095     0.564116   \n",
       "7  Support Vector Machines v2     195.973463      0.593346     0.593750   \n",
       "\n",
       "   difference  \n",
       "0    0.003906  \n",
       "1    0.138335  \n",
       "2    0.004714  \n",
       "3    0.285830  \n",
       "4    0.004310  \n",
       "5    0.009429  \n",
       "6    0.089978  \n",
       "7   -0.000404  "
      ]
     },
     "execution_count": 37,
     "metadata": {},
     "output_type": "execute_result"
    }
   ],
   "source": [
    "models_df = pd.concat([models_df, svm_df], ignore_index=True)\n",
    "models_df"
   ]
  },
  {
   "cell_type": "code",
   "execution_count": 38,
   "metadata": {
    "tags": []
   },
   "outputs": [
    {
     "data": {
      "text/plain": [
       "{'C': 1.4000000000000001, 'degree': 1, 'kernel': 'rbf'}"
      ]
     },
     "execution_count": 38,
     "metadata": {},
     "output_type": "execute_result"
    }
   ],
   "source": [
    "best_params"
   ]
  },
  {
   "cell_type": "markdown",
   "metadata": {
    "tags": []
   },
   "source": [
    "## SVM Tuning Results\n",
    "This model didn't really improve by much but it still has the highest accuracy score. The best params for this model were the 1.4 for the regularization parameter, 1 degree was the best out of 6, and rbf kernel outperformed the poly and sigmoid kernels."
   ]
  },
  {
   "cell_type": "markdown",
   "metadata": {},
   "source": [
    "## Tune Decision Trees"
   ]
  },
  {
   "cell_type": "code",
   "execution_count": 39,
   "metadata": {
    "tags": []
   },
   "outputs": [
    {
     "name": "stdout",
     "output_type": "stream",
     "text": [
      "Fitting 10 folds for each of 48 candidates, totalling 480 fits\n"
     ]
    }
   ],
   "source": [
    "param_grid = {\n",
    "    'ccp_alpha': [0, 0.002, 0.0021, 0.0022, 0.0023, 0.0024, 0.0025, 0.0026],\n",
    "    'criterion': ['gini', 'entropy', 'log_loss'],\n",
    "    'splitter': ['random', 'best']\n",
    "}\n",
    "\n",
    "dt_grid = GridSearchCV(dt, param_grid, scoring='accuracy', verbose=1, n_jobs=-1, cv=10)\n",
    "\n",
    "start_time = time.time()\n",
    "dt_grid.fit(X_train, y_train)\n",
    "end_time=time.time()\n",
    "\n",
    "best_estimator = dt_grid.best_estimator_\n",
    "best_params = dt_grid.best_params_"
   ]
  },
  {
   "cell_type": "code",
   "execution_count": 40,
   "metadata": {
    "tags": []
   },
   "outputs": [],
   "source": [
    "model = 'Decision Tree v2'\n",
    "training_time = end_time - start_time\n",
    "training_acc = best_estimator.score(X_train, y_train)\n",
    "testing_acc = best_estimator.score(X_test, y_test)\n",
    "difference = training_acc - testing_acc\n",
    "\n",
    "dt_df = pd.DataFrame({'model': model, 'training_time': training_time, 'training_acc': training_acc, 'testing_acc': testing_acc, 'difference': difference}, index=[0])"
   ]
  },
  {
   "cell_type": "code",
   "execution_count": 41,
   "metadata": {
    "tags": []
   },
   "outputs": [],
   "source": [
    "models_df = pd.concat([models_df, dt_df], ignore_index=True)"
   ]
  },
  {
   "cell_type": "code",
   "execution_count": 42,
   "metadata": {
    "tags": []
   },
   "outputs": [
    {
     "data": {
      "image/png": "[encoded data removed]",
      "text/plain": [
       "<Figure size 1200x800 with 1 Axes>"
      ]
     },
     "metadata": {},
     "output_type": "display_data"
    }
   ],
   "source": [
    "fig = plt.figure(figsize=(12,8))\n",
    "_ = tree.plot_tree(best_estimator, feature_names=X.columns.tolist(), class_names=['Declined', 'Subscribed'],\n",
    "                   filled=True, rounded=True)\n",
    "\n",
    "plt.show()"
   ]
  },
  {
   "cell_type": "code",
   "execution_count": 43,
   "metadata": {
    "tags": []
   },
   "outputs": [
    {
     "data": {
      "text/html": [
       "<div>\n",
       "<style scoped>\n",
       "    .dataframe tbody tr th:only-of-type {\n",
       "        vertical-align: middle;\n",
       "    }\n",
       "\n",
       "    .dataframe tbody tr th {\n",
       "        vertical-align: top;\n",
       "    }\n",
       "\n",
       "    .dataframe thead th {\n",
       "        text-align: right;\n",
       "    }\n",
       "</style>\n",
       "<table border=\"1\" class=\"dataframe\">\n",
       "  <thead>\n",
       "    <tr style=\"text-align: right;\">\n",
       "      <th></th>\n",
       "      <th>Feature</th>\n",
       "      <th>Importance</th>\n",
       "    </tr>\n",
       "  </thead>\n",
       "  <tbody>\n",
       "    <tr>\n",
       "      <th>0</th>\n",
       "      <td>age</td>\n",
       "      <td>0.485120</td>\n",
       "    </tr>\n",
       "    <tr>\n",
       "      <th>1</th>\n",
       "      <td>default</td>\n",
       "      <td>0.426895</td>\n",
       "    </tr>\n",
       "    <tr>\n",
       "      <th>2</th>\n",
       "      <td>marital</td>\n",
       "      <td>0.087985</td>\n",
       "    </tr>\n",
       "    <tr>\n",
       "      <th>3</th>\n",
       "      <td>loan</td>\n",
       "      <td>0.000000</td>\n",
       "    </tr>\n",
       "    <tr>\n",
       "      <th>4</th>\n",
       "      <td>housing</td>\n",
       "      <td>0.000000</td>\n",
       "    </tr>\n",
       "    <tr>\n",
       "      <th>5</th>\n",
       "      <td>education</td>\n",
       "      <td>0.000000</td>\n",
       "    </tr>\n",
       "    <tr>\n",
       "      <th>6</th>\n",
       "      <td>job</td>\n",
       "      <td>0.000000</td>\n",
       "    </tr>\n",
       "  </tbody>\n",
       "</table>\n",
       "</div>"
      ],
      "text/plain": [
       "     Feature  Importance\n",
       "0        age    0.485120\n",
       "1    default    0.426895\n",
       "2    marital    0.087985\n",
       "3       loan    0.000000\n",
       "4    housing    0.000000\n",
       "5  education    0.000000\n",
       "6        job    0.000000"
      ]
     },
     "execution_count": 43,
     "metadata": {},
     "output_type": "execute_result"
    }
   ],
   "source": [
    "sorted_idx = best_estimator.feature_importances_.argsort()[::-1]\n",
    "feature_importances_df = pd.DataFrame({\n",
    "    'Feature': X.columns[sorted_idx],\n",
    "    'Importance': best_estimator.feature_importances_[sorted_idx]\n",
    "}).reset_index(drop=True)\n",
    "\n",
    "feature_importances_df"
   ]
  },
  {
   "cell_type": "code",
   "execution_count": null,
   "metadata": {
    "tags": []
   },
   "outputs": [],
   "source": [
    "sns.histplot(data=df, x='age', hue='y', kde=True, multiple='stack', palette='muted')\n",
    "plt.title('Age Distribution')\n",
    "plt.xlabel('Age')\n",
    "plt.ylabel('Customer Count')\n",
    "plt.legend(['Subscribed', 'Declined'])\n",
    "plt.show()"
   ]
  },
  {
   "cell_type": "markdown",
   "metadata": {
    "tags": []
   },
   "source": [
    "## Decision Tree Tuning With Only Most Important Features"
   ]
  },
  {
   "cell_type": "code",
   "execution_count": null,
   "metadata": {
    "tags": []
   },
   "outputs": [],
   "source": [
    "X_dt = X[['age', 'default']].copy()\n",
    "X_train3, X_test3, y_train3, y_test3 = train_test_split(X_dt, y, test_size=0.2, random_state=42)\n",
    "dt_3 = DecisionTreeClassifier()\n",
    "\n",
    "param_grid = {\n",
    "    'ccp_alpha': [0, 0.002, 0.0021, 0.0022, 0.0023, 0.0024, 0.0025, 0.0026],\n",
    "    'criterion': ['gini', 'entropy', 'log_loss'],\n",
    "    'splitter': ['random', 'best']\n",
    "}\n",
    "\n",
    "dt3_grid = GridSearchCV(dt_3, param_grid, scoring='accuracy', verbose=1, n_jobs=-1, cv=10)\n",
    "\n",
    "start_time = time.time()\n",
    "dt3_grid.fit(X_train3, y_train3)\n",
    "end_time=time.time()\n",
    "\n",
    "best_estimator = dt3_grid.best_estimator_\n",
    "best_params = dt3_grid.best_params_"
   ]
  },
  {
   "cell_type": "code",
   "execution_count": null,
   "metadata": {
    "tags": []
   },
   "outputs": [],
   "source": [
    "model = 'Decision Tree v3'\n",
    "training_time = end_time - start_time\n",
    "training_acc = best_estimator.score(X_train3, y_train3)\n",
    "testing_acc = best_estimator.score(X_test3, y_test3)\n",
    "difference = training_acc - testing_acc\n",
    "\n",
    "dt3_df = pd.DataFrame({'model': model, 'training_time': training_time, 'training_acc': training_acc, 'testing_acc': testing_acc, 'difference': difference}, index=[0])"
   ]
  },
  {
   "cell_type": "code",
   "execution_count": null,
   "metadata": {
    "tags": []
   },
   "outputs": [],
   "source": [
    "models_df = pd.concat([models_df, dt3_df], ignore_index=True)"
   ]
  },
  {
   "cell_type": "code",
   "execution_count": null,
   "metadata": {
    "tags": []
   },
   "outputs": [],
   "source": [
    "fig = plt.figure(figsize=(12,10))\n",
    "_ = tree.plot_tree(best_estimator, feature_names=X.columns.tolist(), class_names=['Declined', 'Subscribed'],\n",
    "                   filled=True, rounded=True)\n",
    "\n",
    "plt.show()"
   ]
  },
  {
   "cell_type": "markdown",
   "metadata": {
    "tags": []
   },
   "source": [
    "## Decision Tree Tuning Results\n",
    "The accuracy score remained consistent across all three models, with each scoring within the same range. The second model had a depth of 4, while the third model, which utilized only the most important features, had a depth of 5; however, the score remained unchanged."
   ]
  },
  {
   "cell_type": "code",
   "execution_count": null,
   "metadata": {
    "tags": []
   },
   "outputs": [],
   "source": [
    "models_df = models_df.sort_values(by=['model', 'testing_acc'], ascending=[True, False])"
   ]
  },
  {
   "cell_type": "markdown",
   "metadata": {
    "tags": []
   },
   "source": [
    "# Findings\n",
    "Some features proved to be more significant in certain models than in others. For instance, the Decision Tree model identified 'default status' and 'age' as the most crucial features, whereas the Logistic Regression model highlighted 'marital status' and 'default' as having the largest coefficients. A test was conducted focusing solely on these two most important features for each model—'Marital' and 'Default' for Logistic Regression, and 'Age' and 'Default' for Decision Trees. This led to a decrease in scores across all metrics, revealing that the less significant features still played a non-linear yet crucial role in predictions.\n",
    "\n",
    "The baseline models employing default parameters, specifically for the K-Nearest Neighbor and Decision Trees, encountered overfitting issues. Despite achieving high training scores, their performance significantly dropped by 13% and 30%, respectively, when tested against unseen data.\n",
    "\n",
    "Model tuning yielded only marginal improvements, as detailed in the subsequent table. These adjustments, however, mitigated the overfitting issue to some extent. Utilizing multiple cross-validation folds, ranging from 5 to 10, did not notably affect accuracy.\n",
    "\n",
    "Alterations in parameters, such as class weighting and thresholds, slightly enhanced accuracy but were insufficient to address the underlying issue of class imbalance. Some models exhibited high precision but low recall scores, or vice versa, underscoring the challenges current machine learning models face with imbalanced classes. Although some features exhibited a linear relationship with the target variable, the majority showed non-linear relationships."
   ]
  },
  {
   "cell_type": "code",
   "execution_count": null,
   "metadata": {
    "tags": []
   },
   "outputs": [],
   "source": [
    "models_df"
   ]
  },
  {
   "cell_type": "code",
   "execution_count": null,
   "metadata": {
    "tags": []
   },
   "outputs": [],
   "source": [
    "fig, axs = plt.subplots(1, 2, figsize=(12, 6))\n",
    "xlabel = 'Times Contacted Customer'\n",
    "ylabel = 'Age'\n",
    "\n",
    "sns.scatterplot(data=df[df['y'] == 0], x='campaign', y='age', label='Declined', ax=axs[0])\n",
    "sns.scatterplot(data=df[df['y'] == 1], x='campaign', y='age', label='Subscribed', ax=axs[0])\n",
    "axs[0].set_title('Macro View of Subscribed Customers')\n",
    "axs[0].set_xlabel(xlabel)\n",
    "axs[0].set_ylabel(ylabel)\n",
    "axs[0].set_xlim(0,60)\n",
    "\n",
    "sns.scatterplot(data=df[df['y'] == 0], x='campaign', y='age',  alpha=0.3, label='Declined', ax=axs[1])\n",
    "sns.scatterplot(data=df[df['y'] == 1], x='campaign', y='age', edgecolor='black', linewidth=0.4, label='Subscribed', ax=axs[1])\n",
    "axs[1].set_title('Micro View of Subscribed Customers')\n",
    "axs[1].set_xlabel(xlabel)\n",
    "axs[1].set_ylabel(ylabel)\n",
    "axs[1].set_xlim(0, 30)\n",
    "axs[1].legend()\n",
    "\n",
    "plt.tight_layout()\n",
    "plt.show()"
   ]
  },
  {
   "cell_type": "markdown",
   "metadata": {
    "tags": []
   },
   "source": [
    "# Next Steps and Recommendation\n",
    "---\n",
    "The next steps involve leveraging more sophisticated models to navigate the challenges presented by complex features and imbalanced classes:\n",
    "\n",
    "Implement a Random Forest model: This approach addresses the issue of imbalanced classes by utilizing multiple decision trees. The previous decision tree analysis revealed a bias towards the 'default' class, which comprised 79% of the dataset. The Random Forest algorithm is expected to introduce diversity and broaden the decision framework, mitigating this bias.\n",
    "\n",
    "Apply ensemble methods: Enhancing model diversity through ensemble techniques—specifically bagging and boosting—can significantly improve prediction accuracy. Bagging aggregates predictions from various models into a singular forecast, while boosting sequentially refines predictions by minimizing residual errors, using the outcomes of previous models to inform subsequent ones. Historically, combined models have shown superior performance over individual models in terms of prediction accuracy.\n",
    "\n",
    "Explore Neural Networks: Given the non-linear relationships between features, neural networks present a promising avenue for identifying complex patterns within the data. An artificial neural network, capable of processing incomplete knowledge, will be pivotal in distilling insights from these intricate feature interactions.\n",
    "\n",
    "Furthermore, it's recommended that the marketing team concentrates on key metrics: age, marital status, and number of contacts (campaigns). Analysis indicates that individuals within the 30 - 40 age bracket, particularly those who are married or divorced, exhibit higher subscription rates. Additionally, engagements leading to subscriptions typically involved fewer than five contacts. Therefore, it's advisable for the marketing team to design campaigns targeting the 30 to 40 age demographic, focusing on those who are married or have been married, with a communication cap of five contacts per customer.\n",
    "\n"
   ]
  }
 ],
 "metadata": {
  "kernelspec": {
   "display_name": "Python 3 (ipykernel)",
   "language": "python",
   "name": "python3"
  },
  "language_info": {
   "codemirror_mode": {
    "name": "ipython",
    "version": 3
   },
   "file_extension": ".py",
   "mimetype": "text/x-python",
   "name": "python",
   "nbconvert_exporter": "python",
   "pygments_lexer": "ipython3",
   "version": "3.11.4"
  },
  "widgets": {
   "application/vnd.jupyter.widget-state+json": {
    "state": {},
    "version_major": 2,
    "version_minor": 0
   }
  }
 },
 "nbformat": 4,
 "nbformat_minor": 4
}
